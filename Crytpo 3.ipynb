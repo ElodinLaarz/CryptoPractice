{
 "cells": [
  {
   "cell_type": "code",
   "execution_count": 6,
   "metadata": {
    "collapsed": false
   },
   "outputs": [
    {
     "data": {
      "image/png": "[encoded data removed]"
     },
     "execution_count": 6,
     "metadata": {
     },
     "output_type": "execute_result"
    }
   ],
   "source": [
    "E = EllipticCurve(FiniteField(17), [0,1])\n",
    "plot(E, rgbcolor=(0,0,1))"
   ]
  },
  {
   "cell_type": "code",
   "execution_count": 0,
   "metadata": {
    "collapsed": false
   },
   "outputs": [
   ],
   "source": [
    "#RSA\n",
    "#Choose two primes p and q\n",
    "#Compute n = pq\n",
    "#Compute \\lambda(n) = lcm(\\phi(p),\\phi(q)) = lcm(p-1,q-1).\n",
    "#Choose 1 < e < lambda(n) with gcd(e,lambda(n)) = 1\n",
    "#Determine d = e^{-1} mod lambda(n)\n"
   ]
  },
  {
   "cell_type": "code",
   "execution_count": 0,
   "metadata": {
    "collapsed": false
   },
   "outputs": [
   ],
   "source": [
   ]
  },
  {
   "cell_type": "code",
   "execution_count": 0,
   "metadata": {
    "collapsed": false
   },
   "outputs": [
   ],
   "source": [
   ]
  },
  {
   "cell_type": "code",
   "execution_count": 7,
   "metadata": {
    "collapsed": false
   },
   "outputs": [
    {
     "data": {
      "text/plain": [
       "115792089237316195423570985008687907853269984665640564039457584007908834671663"
      ]
     },
     "execution_count": 7,
     "metadata": {
     },
     "output_type": "execute_result"
    }
   ],
   "source": [
    "#Bitcoin prime\n",
    "p = 2^256 - 2^32 - 2^9 - 2^8 - 2^7 - 2^6 - 2^4 - 1; p"
   ]
  },
  {
   "cell_type": "code",
   "execution_count": 0,
   "metadata": {
    "collapsed": false
   },
   "outputs": [
   ],
   "source": [
    "def floyd(f, x0):\n",
    "    # Main phase of algorithm: finding a repetition x_i = x_2i.\n",
    "    # The hare moves twice as quickly as the tortoise and\n",
    "    # the distance between them increases by 1 at each step.\n",
    "    # Eventually they will both be inside the cycle and then,\n",
    "    # at some point, the distance between them will be\n",
    "    # divisible by the period λ.\n",
    "    tortoise = f(x0) # f(x0) is the element/node next to x0.\n",
    "    hare = f(f(x0))\n",
    "    while tortoise != hare:\n",
    "        tortoise = f(tortoise)\n",
    "        hare = f(f(hare))\n",
    "  \n",
    "    # At this point the tortoise position, ν, which is also equal\n",
    "    # to the distance between hare and tortoise, is divisible by\n",
    "    # the period λ. So hare moving in circle one step at a time, \n",
    "    # and tortoise (reset to x0) moving towards the circle, will \n",
    "    # intersect at the beginning of the circle. Because the \n",
    "    # distance between them is constant at 2ν, a multiple of λ,\n",
    "    # they will agree as soon as the tortoise reaches index μ.\n",
    "\n",
    "    # Find the position μ of first repetition.    \n",
    "    mu = 0\n",
    "    tortoise = x0\n",
    "    while tortoise != hare:\n",
    "        tortoise = f(tortoise)\n",
    "        hare = f(hare)   # Hare and tortoise move at same speed\n",
    "        mu += 1\n",
    " \n",
    "    # Find the length of the shortest cycle starting from x_μ\n",
    "    # The hare moves one step at a time while tortoise is still.\n",
    "    # lam is incremented until λ is found.\n",
    "    lam = 1\n",
    "    hare = f(tortoise)\n",
    "    while tortoise != hare:\n",
    "        hare = f(hare)\n",
    "        lam += 1\n",
    " \n",
    "\n",
    "return lam, mu"
   ]
  },
  {
   "cell_type": "code",
   "execution_count": 0,
   "metadata": {
    "collapsed": false
   },
   "outputs": [
   ],
   "source": [
    "#Rho DLP\n"
   ]
  },
  {
   "cell_type": "code",
   "execution_count": 0,
   "metadata": {
    "collapsed": false
   },
   "outputs": [
   ],
   "source": [
    "#Rho Factorization\n",
    "def gcd(a, b):\n",
    "    while a % b != 0:\n",
    "        a, b = b, a % b\n",
    "    return b\n",
    "\n",
    "number = 10403\n",
    "x_fixed = 2\n",
    "cycle_size = 2\n",
    "x = 2\n",
    "factor = 1\n",
    "\n",
    "while factor == 1:\n",
    "    count = 1\n",
    "    while count <= cycle_size and factor <= 1:\n",
    "        x = (x*x + 1) % number\n",
    "        factor = gcd(x - x_fixed, number)\n",
    "        count += 1\n",
    "    cycle_size *= 2\n",
    "    x_fixed = x\n",
    "\n",
    "print(factor)"
   ]
  }
 ],
 "metadata": {
  "kernelspec": {
   "display_name": "SageMath (Development, Py3)",
   "language": "sagemath",
   "metadata": {
    "cocalc": {
     "description": "Open-source mathematical software system",
     "priority": -1,
     "url": "https://www.sagemath.org/"
    }
   },
   "name": "sage-develop"
  }
 },
 "nbformat": 4,
 "nbformat_minor": 0
}