{
 "cells": [
  {
   "cell_type": "code",
   "execution_count": 0,
   "metadata": {
    "collapsed": false
   },
   "outputs": [
   ],
   "source": [
    "#Choose large N -- 2048bit ~ 617decimal\n",
    "#Compute (Z/NZ)*\n",
    "#Find Generator\n",
    "#Choose Secret"
   ]
  },
  {
   "cell_type": "code",
   "execution_count": 5,
   "metadata": {
    "collapsed": false
   },
   "outputs": [
    {
     "name": "stdout",
     "output_type": "stream",
     "text": [
      "10000000000000000000000000000000000000000000000000000000000000000000000000000000000000000000000000267, \n",
      "10000000000000000000000000000000000000000000000000000000000000000000000000000000000000000000000000949, \n",
      "10000000000000000000000000000000000000000000000000000000000000000000000000000000000000000000000001243, \n"
     ]
    },
    {
     "name": "stdout",
     "output_type": "stream",
     "text": [
      "10000000000000000000000000000000000000000000000000000000000000000000000000000000000000000000000001293, \n",
      "10000000000000000000000000000000000000000000000000000000000000000000000000000000000000000000000001983, \n",
      "10000000000000000000000000000000000000000000000000000000000000000000000000000000000000000000000002773, \n",
      "10000000000000000000000000000000000000000000000000000000000000000000000000000000000000000000000002809, \n"
     ]
    },
    {
     "name": "stdout",
     "output_type": "stream",
     "text": [
      "10000000000000000000000000000000000000000000000000000000000000000000000000000000000000000000000002911, \n",
      "10000000000000000000000000000000000000000000000000000000000000000000000000000000000000000000000002967, \n",
      "10000000000000000000000000000000000000000000000000000000000000000000000000000000000000000000000003469, \n",
      "10000000000000000000000000000000000000000000000000000000000000000000000000000000000000000000000003501, \n",
      "10000000000000000000000000000000000000000000000000000000000000000000000000000000000000000000000003799, \n"
     ]
    },
    {
     "name": "stdout",
     "output_type": "stream",
     "text": [
      "10000000000000000000000000000000000000000000000000000000000000000000000000000000000000000000000004317, \n",
      "10000000000000000000000000000000000000000000000000000000000000000000000000000000000000000000000004447, \n",
      "10000000000000000000000000000000000000000000000000000000000000000000000000000000000000000000000004491, \n",
      "10000000000000000000000000000000000000000000000000000000000000000000000000000000000000000000000005383, \n",
      "10000000000000000000000000000000000000000000000000000000000000000000000000000000000000000000000005641, \n",
      "10000000000000000000000000000000000000000000000000000000000000000000000000000000000000000000000005949, \n",
      "10000000000000000000000000000000000000000000000000000000000000000000000000000000000000000000000006403, \n"
     ]
    },
    {
     "name": "stdout",
     "output_type": "stream",
     "text": [
      "10000000000000000000000000000000000000000000000000000000000000000000000000000000000000000000000006637, \n",
      "10000000000000000000000000000000000000000000000000000000000000000000000000000000000000000000000006903, \n",
      "10000000000000000000000000000000000000000000000000000000000000000000000000000000000000000000000007443, \n",
      "10000000000000000000000000000000000000000000000000000000000000000000000000000000000000000000000008583, \n",
      "10000000000000000000000000000000000000000000000000000000000000000000000000000000000000000000000008653, \n"
     ]
    },
    {
     "name": "stdout",
     "output_type": "stream",
     "text": [
      "10000000000000000000000000000000000000000000000000000000000000000000000000000000000000000000000009013, \n",
      "10000000000000000000000000000000000000000000000000000000000000000000000000000000000000000000000009223, \n"
     ]
    }
   ],
   "source": [
    "#Find the next prime larger than 10^617\n",
    "n = 10^100+1\n",
    "for i in range(0,26):\n",
    "    n += 2\n",
    "    while(not is_prime(n)):\n",
    "        n += 2\n",
    "    print(str(n) + \", \")"
   ]
  },
  {
   "cell_type": "code",
   "execution_count": 1,
   "metadata": {
    "collapsed": false
   },
   "outputs": [
    {
     "data": {
      "text/plain": [
       "73"
      ]
     },
     "execution_count": 1,
     "metadata": {
     },
     "output_type": "execute_result"
    }
   ],
   "source": [
    "#Choose a random prime!\n",
    "p = 0\n",
    "rangeMax = 100\n",
    "desiredMin = 10\n",
    "while(desiredMin > p):\n",
    "    p = random_prime(rangeMax,True) #Return Random Prime between 1 and rangeMax\n",
    "p"
   ]
  },
  {
   "cell_type": "code",
   "execution_count": 2,
   "metadata": {
    "collapsed": false
   },
   "outputs": [
    {
     "data": {
      "text/plain": [
       "Ring of integers modulo 73"
      ]
     },
     "execution_count": 2,
     "metadata": {
     },
     "output_type": "execute_result"
    }
   ],
   "source": [
    "#R = Z/pZ\n",
    "R = Integers(p);R"
   ]
  },
  {
   "cell_type": "code",
   "execution_count": 3,
   "metadata": {
    "collapsed": false
   },
   "outputs": [
    {
     "data": {
      "text/plain": [
       "5"
      ]
     },
     "execution_count": 3,
     "metadata": {
     },
     "output_type": "execute_result"
    }
   ],
   "source": [
    "#Find a Generator\n",
    "g = 1\n",
    "while(R(g).multiplicative_order()!= p-1):\n",
    "    g+=1\n",
    "g"
   ]
  },
  {
   "cell_type": "code",
   "execution_count": 9,
   "metadata": {
    "collapsed": false
   },
   "outputs": [
   ],
   "source": [
    "#Choose Secrets!\n",
    "a = 100%72\n",
    "b = 300%72\n",
    "\n",
    "#Compute g^a and g^b!\n",
    "A = R(g^a)\n",
    "B = R(g^b)"
   ]
  },
  {
   "cell_type": "code",
   "execution_count": 10,
   "metadata": {
    "collapsed": false
   },
   "outputs": [
    {
     "data": {
      "text/plain": [
       "36"
      ]
     },
     "execution_count": 10,
     "metadata": {
     },
     "output_type": "execute_result"
    }
   ],
   "source": [
    "A"
   ]
  },
  {
   "cell_type": "code",
   "execution_count": 11,
   "metadata": {
    "collapsed": false
   },
   "outputs": [
    {
     "data": {
      "text/plain": [
       "9"
      ]
     },
     "execution_count": 11,
     "metadata": {
     },
     "output_type": "execute_result"
    }
   ],
   "source": [
    "B"
   ]
  },
  {
   "cell_type": "code",
   "execution_count": 12,
   "metadata": {
    "collapsed": false
   },
   "outputs": [
    {
     "data": {
      "text/plain": [
       "28"
      ]
     },
     "execution_count": 12,
     "metadata": {
     },
     "output_type": "execute_result"
    }
   ],
   "source": [
    "a"
   ]
  },
  {
   "cell_type": "code",
   "execution_count": 13,
   "metadata": {
    "collapsed": false
   },
   "outputs": [
    {
     "data": {
      "text/plain": [
       "12"
      ]
     },
     "execution_count": 13,
     "metadata": {
     },
     "output_type": "execute_result"
    }
   ],
   "source": [
    "b"
   ]
  },
  {
   "cell_type": "code",
   "execution_count": 14,
   "metadata": {
    "collapsed": false
   },
   "outputs": [
    {
     "data": {
      "text/plain": [
       "4738381338321616896"
      ]
     },
     "execution_count": 14,
     "metadata": {
     },
     "output_type": "execute_result"
    }
   ],
   "source": [
    "36^12"
   ]
  },
  {
   "cell_type": "code",
   "execution_count": 15,
   "metadata": {
    "collapsed": false
   },
   "outputs": [
    {
     "data": {
      "text/plain": [
       "64"
      ]
     },
     "execution_count": 15,
     "metadata": {
     },
     "output_type": "execute_result"
    }
   ],
   "source": [
    "R(36^12)"
   ]
  },
  {
   "cell_type": "code",
   "execution_count": 16,
   "metadata": {
    "collapsed": false
   },
   "outputs": [
    {
     "data": {
      "text/plain": [
       "64"
      ]
     },
     "execution_count": 16,
     "metadata": {
     },
     "output_type": "execute_result"
    }
   ],
   "source": [
    "R(9^28)"
   ]
  },
  {
   "cell_type": "code",
   "execution_count": 0,
   "metadata": {
    "collapsed": false
   },
   "outputs": [
   ],
   "source": [
   ]
  }
 ],
 "metadata": {
  "kernelspec": {
   "display_name": "SageMath (Development, Py3)",
   "language": "sagemath",
   "metadata": {
    "cocalc": {
     "description": "Open-source mathematical software system",
     "priority": -1,
     "url": "https://www.sagemath.org/"
    }
   },
   "name": "sage-develop",
   "resource_dir": "/ext/jupyter/kernels/sage-develop"
  }
 },
 "nbformat": 4,
 "nbformat_minor": 4
}